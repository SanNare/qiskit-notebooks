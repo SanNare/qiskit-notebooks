{
 "cells": [
  {
   "cell_type": "markdown",
   "metadata": {},
   "source": [
    "# Quantum Random Number Generator"
   ]
  },
  {
   "cell_type": "code",
   "execution_count": null,
   "metadata": {},
   "outputs": [],
   "source": [
    "! pip install qiskit"
   ]
  },
  {
   "cell_type": "code",
   "execution_count": 66,
   "metadata": {},
   "outputs": [],
   "source": [
    "from qiskit import QuantumCircuit, Aer, IBMQ, execute\n",
    "from qiskit.tools.monitor import job_monitor\n",
    "import math"
   ]
  },
  {
   "cell_type": "markdown",
   "metadata": {},
   "source": [
    "## Defining the superposition circuit"
   ]
  },
  {
   "cell_type": "code",
   "execution_count": 67,
   "metadata": {},
   "outputs": [
    {
     "data": {
      "image/png": "[encoded data removed]",
      "text/plain": [
       "<Figure size 599.592x445.48 with 1 Axes>"
      ]
     },
     "execution_count": 67,
     "metadata": {},
     "output_type": "execute_result"
    }
   ],
   "source": [
    "def superpose(n):\n",
    "    circuit = QuantumCircuit(n,n)\n",
    "    for i in range(0,n):\n",
    "        circuit.h(i)\n",
    "    circuit.measure(range(n),range(n))\n",
    "    return circuit\n",
    "\n",
    "sample = superpose(6)\n",
    "sample.draw('mpl')"
   ]
  },
  {
   "cell_type": "markdown",
   "metadata": {},
   "source": [
    "## Simulating the quantum random number generator locally"
   ]
  },
  {
   "cell_type": "code",
   "execution_count": 68,
   "metadata": {},
   "outputs": [],
   "source": [
    "def qrandom_sim(a,b):\n",
    "    n = math.ceil(math.log2(b))\n",
    "    circuit = superpose(n)\n",
    "    simulator = Aer.get_backend('qasm_simulator')\n",
    "    result = execute(circuit,backend = simulator, shots = 1).result()\n",
    "    v = int(list(result.get_counts(circuit).keys())[0],2)\n",
    "    return v%(b-a+1)+a"
   ]
  },
  {
   "cell_type": "code",
   "execution_count": 69,
   "metadata": {},
   "outputs": [
    {
     "name": "stdout",
     "output_type": "stream",
     "text": [
      "14\n"
     ]
    }
   ],
   "source": [
    "r = qrandom_sim(2,20)\n",
    "print(r)"
   ]
  },
  {
   "cell_type": "markdown",
   "metadata": {},
   "source": [
    "## Running the random number generator on IBM's quantum computer\n",
    "First load your IBMQ account, then run the cells below."
   ]
  },
  {
   "cell_type": "code",
   "execution_count": null,
   "metadata": {},
   "outputs": [],
   "source": [
    "IBMQ.load_account()"
   ]
  },
  {
   "cell_type": "code",
   "execution_count": 70,
   "metadata": {},
   "outputs": [],
   "source": [
    "def qrandom(a,b):\n",
    "    n = math.ceil(math.log2(b))\n",
    "    circuit = superpose(n)\n",
    "    provider = IBMQ.get_provider('ibm-q')\n",
    "    qcomp = provider.get_backend('ibmq_16_melbourne')\n",
    "    job = execute(circuit,backend = qcomp,shots = 1)\n",
    "    job_monitor(job)\n",
    "    result = job.result()\n",
    "    v = int(list(result.get_counts(circuit).keys())[0],2)\n",
    "    return v%(b-a+1)+a"
   ]
  },
  {
   "cell_type": "code",
   "execution_count": 71,
   "metadata": {},
   "outputs": [
    {
     "name": "stderr",
     "output_type": "stream",
     "text": [
      "ibmqfactory.load_account:WARNING:2020-08-05 17:13:34,799: Credentials are already in use. The existing account in the session will be replaced.\n"
     ]
    },
    {
     "name": "stdout",
     "output_type": "stream",
     "text": [
      "Job Status: job has successfully run\n",
      "32\n"
     ]
    }
   ],
   "source": [
    "r = qrandom(20,40)\n",
    "print(r)"
   ]
  },
  {
   "cell_type": "code",
   "execution_count": null,
   "metadata": {},
   "outputs": [],
   "source": []
  }
 ],
 "metadata": {
  "kernelspec": {
   "display_name": "Python 3",
   "language": "python",
   "name": "python3"
  },
  "language_info": {
   "codemirror_mode": {
    "name": "ipython",
    "version": 3
   },
   "file_extension": ".py",
   "mimetype": "text/x-python",
   "name": "python",
   "nbconvert_exporter": "python",
   "pygments_lexer": "ipython3",
   "version": "3.7.6"
  }
 },
 "nbformat": 4,
 "nbformat_minor": 4
}

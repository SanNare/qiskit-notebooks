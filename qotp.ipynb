{
 "cells": [
  {
   "cell_type": "markdown",
   "metadata": {},
   "source": [
    "# Quantum One Time Pad"
   ]
  },
  {
   "cell_type": "code",
   "execution_count": 25,
   "metadata": {},
   "outputs": [],
   "source": [
    "from qiskit import QuantumCircuit\n",
    "from qiskit.quantum_info import Statevector, DensityMatrix\n",
    "from qiskit.tools.visualization import plot_state_qsphere, plot_histogram"
   ]
  },
  {
   "cell_type": "markdown",
   "metadata": {},
   "source": [
    "## Initializing message qubits\n",
    "Specify the number of qubits as $n$. The message qubits can be initialized by entering integer or binary values for $m$ and $hads$ respectively, which apply the following operations:\n",
    "\n",
    "$m[i] = 1 \\implies circuit.x(i)$ <br>\n",
    "$hads[i] = 1 \\implies circuit.h(i)$\n",
    "\n",
    "To initialize qubits using unitaries other than $X,H$, feel free to modify the $init\\_message()$ function or apply the operations on your circuit itself!"
   ]
  },
  {
   "cell_type": "code",
   "execution_count": 88,
   "metadata": {},
   "outputs": [],
   "source": [
    "def init_message(circuit,n = 1,m = 0,hads = 0):\n",
    "    if isinstance(m,int):\n",
    "        m = bin(m)[2:]\n",
    "    m = m.zfill(n)\n",
    "    if isinstance(hads,int):\n",
    "        hads = bin(hads)[2:]\n",
    "    hads = hads.zfill(n)\n",
    "    for i in range(0,n):\n",
    "        if m[i] == '1':\n",
    "            circuit.x(i)\n",
    "        if hads[i] == '1':\n",
    "            circuit.h(i)"
   ]
  },
  {
   "cell_type": "markdown",
   "metadata": {},
   "source": [
    "## Encryption and Decryption\n",
    "The Quantum One time pad requires the use of two keys equal in length to the message string. If $k_1, k_2$ are the two keys shared between the sender and receiver, and $|m\\rangle = |m_{n-1}\\rangle \\otimes |m_{n-2}\\rangle \\otimes ... \\otimes |m_1\\rangle \\otimes |m_0\\rangle$\n",
    "\n",
    "$Enc(|m\\rangle,k_1,k_2)[i] = X^{k_1[i]}Z^{k_2[i]}|m_i\\rangle = |c_i\\rangle$\n",
    "\n",
    "If $|c\\rangle = |c_{n-1}\\rangle \\otimes |c_{n-2}\\rangle \\otimes ... \\otimes |c_1\\rangle \\otimes |c_0\\rangle$ is the encrypted message or ciphertext, then\n",
    "\n",
    "$Dec(|c\\rangle,k_1,k_2)[i] = Z^{k_2[i]}X^{k_1[i]}|c_i\\rangle = |m_i\\rangle$\n",
    "\n",
    "Note that $Dec(|c\\rangle,k_1,k_2) = Enc(|m\\rangle,k_1,k_2)^{\\dagger}$"
   ]
  },
  {
   "cell_type": "code",
   "execution_count": 55,
   "metadata": {},
   "outputs": [],
   "source": [
    "def encrypt(n,key1 = 0,key2 = 0):\n",
    "    circuit = QuantumCircuit(n)\n",
    "    if isinstance(key1,int):\n",
    "        k1 = bin(key1)[2:]\n",
    "    k1 = k1.zfill(n)\n",
    "    if isinstance(key2,int):\n",
    "        k2 = bin(key2)[2:]\n",
    "    k2 = k2.zfill(n)\n",
    "    for i in range(0,n):\n",
    "        if k1[i] == '1':\n",
    "            circuit.x(i)\n",
    "        if k2[i] == '1':\n",
    "            circuit.z(i)\n",
    "    return circuit.to_gate()\n",
    "\n",
    "def decrypt(n,key1 = 0,key2 = 0):\n",
    "    return encrypt(n,key1,key2).inverse()\n",
    "    "
   ]
  },
  {
   "cell_type": "markdown",
   "metadata": {},
   "source": [
    "## Testing the circuits"
   ]
  },
  {
   "cell_type": "code",
   "execution_count": 90,
   "metadata": {},
   "outputs": [
    {
     "data": {
      "image/png": "[encoded data removed]",
      "text/plain": [
       "<Figure size 479.192x144.48 with 1 Axes>"
      ]
     },
     "execution_count": 90,
     "metadata": {},
     "output_type": "execute_result"
    }
   ],
   "source": [
    "n = 2\n",
    "k1,k2 = 3,3\n",
    "m = 0\n",
    "hads = 3\n",
    "circuit = QuantumCircuit(n)\n",
    "init_message(circuit,n,m,hads)\n",
    "#encryption\n",
    "enc = encrypt(n,k1,k2)\n",
    "enc.label = 'Enc({},{},{})'.format(n,k1,k2)\n",
    "circuit.append(enc,list(range(0,n)))\n",
    "# #decryption: uncomment to apply\n",
    "# dec = decrypt(n,k1,k2)\n",
    "# dec.label = 'Dec({},{},{})'.format(n,k1,k2)\n",
    "# circuit.append(dec,list(range(0,n)))\n",
    "\n",
    "%matplotlib inline\n",
    "circuit.draw(output = 'mpl')\n",
    "#Uncomment to view contents of the encryption and/or decryption circuits\n",
    "#circuit.decompose().draw(output = 'mpl')"
   ]
  },
  {
   "cell_type": "code",
   "execution_count": 85,
   "metadata": {},
   "outputs": [
    {
     "name": "stdout",
     "output_type": "stream",
     "text": [
      "[ 0.5+0.j -0.5+0.j -0.5+0.j  0.5+0.j]\n",
      "[[ 0.25+0.j -0.25+0.j -0.25+0.j  0.25+0.j]\n",
      " [-0.25+0.j  0.25+0.j  0.25+0.j -0.25+0.j]\n",
      " [-0.25+0.j  0.25+0.j  0.25+0.j -0.25+0.j]\n",
      " [ 0.25+0.j -0.25+0.j -0.25+0.j  0.25+0.j]]\n"
     ]
    }
   ],
   "source": [
    "sv = Statevector.from_label(\"00\")\n",
    "dm = DensityMatrix(sv)\n",
    "nsv = sv.evolve(circuit)\n",
    "ndm = dm.evolve(circuit)\n",
    "print(nsv.data)\n",
    "print(ndm.data)"
   ]
  },
  {
   "cell_type": "code",
   "execution_count": null,
   "metadata": {},
   "outputs": [],
   "source": []
  }
 ],
 "metadata": {
  "kernelspec": {
   "display_name": "Python 3",
   "language": "python",
   "name": "python3"
  },
  "language_info": {
   "codemirror_mode": {
    "name": "ipython",
    "version": 3
   },
   "file_extension": ".py",
   "mimetype": "text/x-python",
   "name": "python",
   "nbconvert_exporter": "python",
   "pygments_lexer": "ipython3",
   "version": "3.7.6"
  }
 },
 "nbformat": 4,
 "nbformat_minor": 4
}
